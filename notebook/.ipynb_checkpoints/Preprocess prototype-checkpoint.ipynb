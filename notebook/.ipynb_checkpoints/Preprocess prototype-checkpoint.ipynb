{
 "cells": [
  {
   "cell_type": "code",
   "execution_count": 61,
   "metadata": {
    "collapsed": true
   },
   "outputs": [],
   "source": [
    "import codecs\n",
    "import re\n",
    "def prepare_features(filename,sen_len=100,overlap=20):\n",
    "    f = codecs.open(filename, \"r\", \"utf-8\")\n",
    "    text = f.read()\n",
    "    #Make that | become only start of word\n",
    "    if(text[0]!=\"|\"): text = \"|\"+text\n",
    "    if(text[-1]==\"|\"): text = text[:-1]\n",
    "    stopwords = [\"<NE>\",\"</NE>\",\"<AB>\",\"</AB>\",\"\\r\\n\",\"\"]\n",
    "    for word in stopwords:\n",
    "        text = text.replace(word,\"\")\n",
    "    isStart = \"\".join([\"1\" if c==\"|\" else \"0\" for c in text])\n",
    "    isStart = isStart.replace(\"10\",\"1\")\n",
    "    text = text.replace(\"|\",\"\")\n",
    "    \n",
    "    assert len(text)!=len(isStart)\n",
    "    X = get_overlapped_chunks(text,sen_len,overlap)\n",
    "    Y = get_overlapped_chunks(isStart,sen_len,overlap)\n",
    "    \n",
    "    return X,Y\n",
    "#prepare_features(\"../dataset/train/article/article_00001.txt\")"
   ]
  },
  {
   "cell_type": "code",
   "execution_count": 70,
   "metadata": {
    "collapsed": true
   },
   "outputs": [],
   "source": [
    "def load_data(sen_len=100,overlap = 20,file_num = 75):\n",
    "    #print all possible\n",
    "    file_list = glob.glob(\"../dataset/train/*/*.txt\")\n",
    "    X,Y = [],[]\n",
    "    \n",
    "    for file in file_list[:file_num]:\n",
    "        x,y = prepare_features(file,sen_len,overlap)\n",
    "        X.extend(x)\n",
    "        Y.extend(y)\n",
    "    return np.array(X), np.array(Y)"
   ]
  },
  {
   "cell_type": "code",
   "execution_count": 71,
   "metadata": {},
   "outputs": [
    {
     "data": {
      "text/plain": [
       "'TE|ST'"
      ]
     },
     "execution_count": 71,
     "metadata": {},
     "output_type": "execute_result"
    }
   ],
   "source": [
    "def get_overlapped_chunks(textin, chunksize, overlapsize):  \n",
    "    return [ textin[a:a+chunksize] for a in range(0,len(textin), chunksize-overlapsize)]\n",
    "\n",
    "def create_pipe(text,pipeInd):\n",
    "    assert(len(text)==len(pipeInd))\n",
    "    ans=\"\"\n",
    "    for c,i in zip(text,pipeInd):\n",
    "        if(i==\"1\"):ans+=\"|\"\n",
    "        ans+=c\n",
    "    return ans\n",
    "create_pipe(\"TEST\",\"0010\")"
   ]
  },
  {
   "cell_type": "code",
   "execution_count": 72,
   "metadata": {},
   "outputs": [
    {
     "name": "stdout",
     "output_type": "stream",
     "text": [
      "CPU times: user 302 ms, sys: 14.9 ms, total: 317 ms\n",
      "Wall time: 327 ms\n"
     ]
    }
   ],
   "source": [
    "%%time\n",
    "X,Y = load_data()"
   ]
  },
  {
   "cell_type": "code",
   "execution_count": 73,
   "metadata": {},
   "outputs": [
    {
     "data": {
      "text/plain": [
       "21589"
      ]
     },
     "execution_count": 73,
     "metadata": {},
     "output_type": "execute_result"
    }
   ],
   "source": [
    "len(X)"
   ]
  },
  {
   "cell_type": "code",
   "execution_count": 77,
   "metadata": {},
   "outputs": [
    {
     "name": "stdout",
     "output_type": "stream",
     "text": [
      "3|)| |ศุภวิทย์ ถาวรบุตร|,| |\"|เรขาคณิต|วิเคราะห์|:| |กุญแจ|เผย|วิถี|แห่ง|ฟากฟ้า| |(|จาก|โคเปอร์นิคัส|ถึง|นิวตัน|)| |ค.ศ.|1543\n",
      "ส|ถึง|นิวตัน|)| |ค.ศ.|1543|-|1687|,|\"| |(|วิทยานิพนธ์|ศิลปศาสตรมหาบัณฑิต| |สาขา|ประวัติศาสตร์| |คณะศิลปศาสตร์| |มหาวิทยาล\n",
      "ศิลปศาสตร์| |มหาวิทยาลัยธรรมศาสตร์|,| |2547|)|,| |หน้า| |20|-|26|.|(|24|)| |ประภาส ปิ่นตบแต่ง|,| |\"|ขบวนการ|สิ่ง|แวดล้อม|ยุค|หล\n",
      "นการ|สิ่ง|แวดล้อม|ยุค|หลัง| |Modernism|,|\"| |วารสาร|ร่ม|พฤกษ์| |13|:|1| |(|มิถุนายน|-|ตุลาคม| |2537|)|:| |49|-|50|.|(|25|)| |Raymond Wi\n",
      "9|-|50|.|(|25|)| |Raymond Williams|,| |Problems| |in| |Materialism| |and| |Culture|,| |pp.|86|-|102|;| |Richard J.Perry|,| |Five| |Ke\n"
     ]
    }
   ],
   "source": [
    "test = 21580\n",
    "for x,y in zip(X[test:test+5],Y[test:test+5]):\n",
    "    print(create_pipe(x,y))"
   ]
  },
  {
   "cell_type": "code",
   "execution_count": 12,
   "metadata": {},
   "outputs": [
    {
     "data": {
      "text/plain": [
       "259864"
      ]
     },
     "execution_count": 12,
     "metadata": {},
     "output_type": "execute_result"
    }
   ],
   "source": [
    "len(Y)"
   ]
  },
  {
   "cell_type": "code",
   "execution_count": 1,
   "metadata": {
    "collapsed": true
   },
   "outputs": [],
   "source": [
    "#Test\n",
    "import sys\n",
    "sys.path.insert(0, '../script/')\n",
    "\n",
    "import preprocess\n",
    "X,Y = preprocess.load_data()"
   ]
  }
 ],
 "metadata": {
  "kernelspec": {
   "display_name": "Python 3",
   "language": "python",
   "name": "python3"
  },
  "language_info": {
   "codemirror_mode": {
    "name": "ipython",
    "version": 3
   },
   "file_extension": ".py",
   "mimetype": "text/x-python",
   "name": "python",
   "nbconvert_exporter": "python",
   "pygments_lexer": "ipython3",
   "version": "3.6.1"
  }
 },
 "nbformat": 4,
 "nbformat_minor": 2
}
